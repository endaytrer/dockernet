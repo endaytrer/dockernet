{
 "cells": [
  {
   "cell_type": "code",
   "execution_count": 34,
   "metadata": {},
   "outputs": [],
   "source": [
    "import pandas as pd\n",
    "\n",
    "from pybatfish.client.session import Session\n",
    "from pybatfish.datamodel import *\n",
    "from pybatfish.datamodel.answer import *\n",
    "from pybatfish.datamodel.flow import *"
   ]
  },
  {
   "cell_type": "code",
   "execution_count": 35,
   "metadata": {},
   "outputs": [],
   "source": [
    "bf = Session(host=\"localhost\")"
   ]
  },
  {
   "cell_type": "code",
   "execution_count": 36,
   "metadata": {},
   "outputs": [
    {
     "data": {
      "text/plain": [
       "'example_dc'"
      ]
     },
     "execution_count": 36,
     "metadata": {},
     "output_type": "execute_result"
    }
   ],
   "source": [
    "bf.set_network(\"example_dc\")"
   ]
  },
  {
   "cell_type": "code",
   "execution_count": 37,
   "metadata": {},
   "outputs": [
    {
     "data": {
      "text/plain": [
       "'snapshot-2023-11-22'"
      ]
     },
     "execution_count": 37,
     "metadata": {},
     "output_type": "execute_result"
    }
   ],
   "source": [
    "SNAPSHOT_DIR=\"snapshot\"\n",
    "bf.init_snapshot(SNAPSHOT_DIR, name=\"snapshot-2023-11-22\", overwrite=True)"
   ]
  },
  {
   "cell_type": "code",
   "execution_count": 38,
   "metadata": {},
   "outputs": [
    {
     "data": {
      "text/plain": [
       "'snapshot-2023-11-22'"
      ]
     },
     "execution_count": 38,
     "metadata": {},
     "output_type": "execute_result"
    }
   ],
   "source": [
    "bf.set_network(\"example_dc\")\n",
    "bf.set_snapshot(\"snapshot-2023-11-22\")"
   ]
  },
  {
   "cell_type": "code",
   "execution_count": 39,
   "metadata": {},
   "outputs": [
    {
     "ename": "KeyboardInterrupt",
     "evalue": "",
     "output_type": "error",
     "traceback": [
      "\u001b[0;31m---------------------------------------------------------------------------\u001b[0m",
      "\u001b[0;31mConnectionRefusedError\u001b[0m                    Traceback (most recent call last)",
      "File \u001b[0;32m~/Repositories/dockernet/.venv/lib/python3.11/site-packages/urllib3/connection.py:203\u001b[0m, in \u001b[0;36mHTTPConnection._new_conn\u001b[0;34m(self)\u001b[0m\n\u001b[1;32m    202\u001b[0m \u001b[39mtry\u001b[39;00m:\n\u001b[0;32m--> 203\u001b[0m     sock \u001b[39m=\u001b[39m connection\u001b[39m.\u001b[39;49mcreate_connection(\n\u001b[1;32m    204\u001b[0m         (\u001b[39mself\u001b[39;49m\u001b[39m.\u001b[39;49m_dns_host, \u001b[39mself\u001b[39;49m\u001b[39m.\u001b[39;49mport),\n\u001b[1;32m    205\u001b[0m         \u001b[39mself\u001b[39;49m\u001b[39m.\u001b[39;49mtimeout,\n\u001b[1;32m    206\u001b[0m         source_address\u001b[39m=\u001b[39;49m\u001b[39mself\u001b[39;49m\u001b[39m.\u001b[39;49msource_address,\n\u001b[1;32m    207\u001b[0m         socket_options\u001b[39m=\u001b[39;49m\u001b[39mself\u001b[39;49m\u001b[39m.\u001b[39;49msocket_options,\n\u001b[1;32m    208\u001b[0m     )\n\u001b[1;32m    209\u001b[0m \u001b[39mexcept\u001b[39;00m socket\u001b[39m.\u001b[39mgaierror \u001b[39mas\u001b[39;00m e:\n",
      "File \u001b[0;32m~/Repositories/dockernet/.venv/lib/python3.11/site-packages/urllib3/util/connection.py:85\u001b[0m, in \u001b[0;36mcreate_connection\u001b[0;34m(address, timeout, source_address, socket_options)\u001b[0m\n\u001b[1;32m     84\u001b[0m \u001b[39mtry\u001b[39;00m:\n\u001b[0;32m---> 85\u001b[0m     \u001b[39mraise\u001b[39;00m err\n\u001b[1;32m     86\u001b[0m \u001b[39mfinally\u001b[39;00m:\n\u001b[1;32m     87\u001b[0m     \u001b[39m# Break explicitly a reference cycle\u001b[39;00m\n",
      "File \u001b[0;32m~/Repositories/dockernet/.venv/lib/python3.11/site-packages/urllib3/util/connection.py:73\u001b[0m, in \u001b[0;36mcreate_connection\u001b[0;34m(address, timeout, source_address, socket_options)\u001b[0m\n\u001b[1;32m     72\u001b[0m     sock\u001b[39m.\u001b[39mbind(source_address)\n\u001b[0;32m---> 73\u001b[0m sock\u001b[39m.\u001b[39;49mconnect(sa)\n\u001b[1;32m     74\u001b[0m \u001b[39m# Break explicitly a reference cycle\u001b[39;00m\n",
      "\u001b[0;31mConnectionRefusedError\u001b[0m: [Errno 111] Connection refused",
      "\nThe above exception was the direct cause of the following exception:\n",
      "\u001b[0;31mNewConnectionError\u001b[0m                        Traceback (most recent call last)",
      "File \u001b[0;32m~/Repositories/dockernet/.venv/lib/python3.11/site-packages/urllib3/connectionpool.py:790\u001b[0m, in \u001b[0;36mHTTPConnectionPool.urlopen\u001b[0;34m(self, method, url, body, headers, retries, redirect, assert_same_host, timeout, pool_timeout, release_conn, chunked, body_pos, preload_content, decode_content, **response_kw)\u001b[0m\n\u001b[1;32m    789\u001b[0m \u001b[39m# Make the request on the HTTPConnection object\u001b[39;00m\n\u001b[0;32m--> 790\u001b[0m response \u001b[39m=\u001b[39m \u001b[39mself\u001b[39;49m\u001b[39m.\u001b[39;49m_make_request(\n\u001b[1;32m    791\u001b[0m     conn,\n\u001b[1;32m    792\u001b[0m     method,\n\u001b[1;32m    793\u001b[0m     url,\n\u001b[1;32m    794\u001b[0m     timeout\u001b[39m=\u001b[39;49mtimeout_obj,\n\u001b[1;32m    795\u001b[0m     body\u001b[39m=\u001b[39;49mbody,\n\u001b[1;32m    796\u001b[0m     headers\u001b[39m=\u001b[39;49mheaders,\n\u001b[1;32m    797\u001b[0m     chunked\u001b[39m=\u001b[39;49mchunked,\n\u001b[1;32m    798\u001b[0m     retries\u001b[39m=\u001b[39;49mretries,\n\u001b[1;32m    799\u001b[0m     response_conn\u001b[39m=\u001b[39;49mresponse_conn,\n\u001b[1;32m    800\u001b[0m     preload_content\u001b[39m=\u001b[39;49mpreload_content,\n\u001b[1;32m    801\u001b[0m     decode_content\u001b[39m=\u001b[39;49mdecode_content,\n\u001b[1;32m    802\u001b[0m     \u001b[39m*\u001b[39;49m\u001b[39m*\u001b[39;49mresponse_kw,\n\u001b[1;32m    803\u001b[0m )\n\u001b[1;32m    805\u001b[0m \u001b[39m# Everything went great!\u001b[39;00m\n",
      "File \u001b[0;32m~/Repositories/dockernet/.venv/lib/python3.11/site-packages/urllib3/connectionpool.py:496\u001b[0m, in \u001b[0;36mHTTPConnectionPool._make_request\u001b[0;34m(self, conn, method, url, body, headers, retries, timeout, chunked, response_conn, preload_content, decode_content, enforce_content_length)\u001b[0m\n\u001b[1;32m    495\u001b[0m \u001b[39mtry\u001b[39;00m:\n\u001b[0;32m--> 496\u001b[0m     conn\u001b[39m.\u001b[39;49mrequest(\n\u001b[1;32m    497\u001b[0m         method,\n\u001b[1;32m    498\u001b[0m         url,\n\u001b[1;32m    499\u001b[0m         body\u001b[39m=\u001b[39;49mbody,\n\u001b[1;32m    500\u001b[0m         headers\u001b[39m=\u001b[39;49mheaders,\n\u001b[1;32m    501\u001b[0m         chunked\u001b[39m=\u001b[39;49mchunked,\n\u001b[1;32m    502\u001b[0m         preload_content\u001b[39m=\u001b[39;49mpreload_content,\n\u001b[1;32m    503\u001b[0m         decode_content\u001b[39m=\u001b[39;49mdecode_content,\n\u001b[1;32m    504\u001b[0m         enforce_content_length\u001b[39m=\u001b[39;49menforce_content_length,\n\u001b[1;32m    505\u001b[0m     )\n\u001b[1;32m    507\u001b[0m \u001b[39m# We are swallowing BrokenPipeError (errno.EPIPE) since the server is\u001b[39;00m\n\u001b[1;32m    508\u001b[0m \u001b[39m# legitimately able to close the connection after sending a valid response.\u001b[39;00m\n\u001b[1;32m    509\u001b[0m \u001b[39m# With this behaviour, the received response is still readable.\u001b[39;00m\n",
      "File \u001b[0;32m~/Repositories/dockernet/.venv/lib/python3.11/site-packages/urllib3/connection.py:395\u001b[0m, in \u001b[0;36mHTTPConnection.request\u001b[0;34m(self, method, url, body, headers, chunked, preload_content, decode_content, enforce_content_length)\u001b[0m\n\u001b[1;32m    394\u001b[0m     \u001b[39mself\u001b[39m\u001b[39m.\u001b[39mputheader(header, value)\n\u001b[0;32m--> 395\u001b[0m \u001b[39mself\u001b[39;49m\u001b[39m.\u001b[39;49mendheaders()\n\u001b[1;32m    397\u001b[0m \u001b[39m# If we're given a body we start sending that in chunks.\u001b[39;00m\n",
      "File \u001b[0;32m/usr/lib/python3.11/http/client.py:1277\u001b[0m, in \u001b[0;36mHTTPConnection.endheaders\u001b[0;34m(self, message_body, encode_chunked)\u001b[0m\n\u001b[1;32m   1276\u001b[0m     \u001b[39mraise\u001b[39;00m CannotSendHeader()\n\u001b[0;32m-> 1277\u001b[0m \u001b[39mself\u001b[39;49m\u001b[39m.\u001b[39;49m_send_output(message_body, encode_chunked\u001b[39m=\u001b[39;49mencode_chunked)\n",
      "File \u001b[0;32m/usr/lib/python3.11/http/client.py:1037\u001b[0m, in \u001b[0;36mHTTPConnection._send_output\u001b[0;34m(self, message_body, encode_chunked)\u001b[0m\n\u001b[1;32m   1036\u001b[0m \u001b[39mdel\u001b[39;00m \u001b[39mself\u001b[39m\u001b[39m.\u001b[39m_buffer[:]\n\u001b[0;32m-> 1037\u001b[0m \u001b[39mself\u001b[39;49m\u001b[39m.\u001b[39;49msend(msg)\n\u001b[1;32m   1039\u001b[0m \u001b[39mif\u001b[39;00m message_body \u001b[39mis\u001b[39;00m \u001b[39mnot\u001b[39;00m \u001b[39mNone\u001b[39;00m:\n\u001b[1;32m   1040\u001b[0m \n\u001b[1;32m   1041\u001b[0m     \u001b[39m# create a consistent interface to message_body\u001b[39;00m\n",
      "File \u001b[0;32m/usr/lib/python3.11/http/client.py:975\u001b[0m, in \u001b[0;36mHTTPConnection.send\u001b[0;34m(self, data)\u001b[0m\n\u001b[1;32m    974\u001b[0m \u001b[39mif\u001b[39;00m \u001b[39mself\u001b[39m\u001b[39m.\u001b[39mauto_open:\n\u001b[0;32m--> 975\u001b[0m     \u001b[39mself\u001b[39;49m\u001b[39m.\u001b[39;49mconnect()\n\u001b[1;32m    976\u001b[0m \u001b[39melse\u001b[39;00m:\n",
      "File \u001b[0;32m~/Repositories/dockernet/.venv/lib/python3.11/site-packages/urllib3/connection.py:243\u001b[0m, in \u001b[0;36mHTTPConnection.connect\u001b[0;34m(self)\u001b[0m\n\u001b[1;32m    242\u001b[0m \u001b[39mdef\u001b[39;00m \u001b[39mconnect\u001b[39m(\u001b[39mself\u001b[39m) \u001b[39m-\u001b[39m\u001b[39m>\u001b[39m \u001b[39mNone\u001b[39;00m:\n\u001b[0;32m--> 243\u001b[0m     \u001b[39mself\u001b[39m\u001b[39m.\u001b[39msock \u001b[39m=\u001b[39m \u001b[39mself\u001b[39;49m\u001b[39m.\u001b[39;49m_new_conn()\n\u001b[1;32m    244\u001b[0m     \u001b[39mif\u001b[39;00m \u001b[39mself\u001b[39m\u001b[39m.\u001b[39m_tunnel_host:\n\u001b[1;32m    245\u001b[0m         \u001b[39m# If we're tunneling it means we're connected to our proxy.\u001b[39;00m\n",
      "File \u001b[0;32m~/Repositories/dockernet/.venv/lib/python3.11/site-packages/urllib3/connection.py:218\u001b[0m, in \u001b[0;36mHTTPConnection._new_conn\u001b[0;34m(self)\u001b[0m\n\u001b[1;32m    217\u001b[0m \u001b[39mexcept\u001b[39;00m \u001b[39mOSError\u001b[39;00m \u001b[39mas\u001b[39;00m e:\n\u001b[0;32m--> 218\u001b[0m     \u001b[39mraise\u001b[39;00m NewConnectionError(\n\u001b[1;32m    219\u001b[0m         \u001b[39mself\u001b[39m, \u001b[39mf\u001b[39m\u001b[39m\"\u001b[39m\u001b[39mFailed to establish a new connection: \u001b[39m\u001b[39m{\u001b[39;00me\u001b[39m}\u001b[39;00m\u001b[39m\"\u001b[39m\n\u001b[1;32m    220\u001b[0m     ) \u001b[39mfrom\u001b[39;00m \u001b[39me\u001b[39;00m\n\u001b[1;32m    222\u001b[0m \u001b[39m# Audit hooks are only available in Python 3.8+\u001b[39;00m\n",
      "\u001b[0;31mNewConnectionError\u001b[0m: <urllib3.connection.HTTPConnection object at 0x7f6078ced2d0>: Failed to establish a new connection: [Errno 111] Connection refused",
      "\nDuring handling of the above exception, another exception occurred:\n",
      "\u001b[0;31mKeyboardInterrupt\u001b[0m                         Traceback (most recent call last)",
      "\u001b[1;32m/home/endaytrer/Repositories/dockernet/batfish.ipynb Cell 6\u001b[0m line \u001b[0;36m1\n\u001b[0;32m----> <a href='vscode-notebook-cell://ssh-remote%2Bendaytrer-pc.local/home/endaytrer/Repositories/dockernet/batfish.ipynb#W5sdnNjb2RlLXJlbW90ZQ%3D%3D?line=0'>1</a>\u001b[0m result \u001b[39m=\u001b[39m bf\u001b[39m.\u001b[39;49mq\u001b[39m.\u001b[39;49mbidirectionalReachability(headers\u001b[39m=\u001b[39;49mHeaderConstraints(srcIps\u001b[39m=\u001b[39;49m\u001b[39m'\u001b[39;49m\u001b[39mh1\u001b[39;49m\u001b[39m'\u001b[39;49m, dstIps\u001b[39m=\u001b[39;49m\u001b[39m'\u001b[39;49m\u001b[39mh143\u001b[39;49m\u001b[39m'\u001b[39;49m))\u001b[39m.\u001b[39;49manswer()\u001b[39m.\u001b[39mframe()\n",
      "File \u001b[0;32m~/Repositories/dockernet/.venv/lib/python3.11/site-packages/pybatfish/question/question.py:192\u001b[0m, in \u001b[0;36mQuestionBase.answer\u001b[0;34m(self, snapshot, reference_snapshot, include_one_table_keys, background, extra_args)\u001b[0m\n\u001b[1;32m    190\u001b[0m \u001b[39mif\u001b[39;00m include_one_table_keys \u001b[39mis\u001b[39;00m \u001b[39mnot\u001b[39;00m \u001b[39mNone\u001b[39;00m:\n\u001b[1;32m    191\u001b[0m     \u001b[39mself\u001b[39m\u001b[39m.\u001b[39m_set_include_one_table_keys(include_one_table_keys)\n\u001b[0;32m--> 192\u001b[0m \u001b[39mreturn\u001b[39;00m _bf_answer_obj(\n\u001b[1;32m    193\u001b[0m     session\u001b[39m=\u001b[39;49msession,\n\u001b[1;32m    194\u001b[0m     question_str\u001b[39m=\u001b[39;49m\u001b[39mself\u001b[39;49m\u001b[39m.\u001b[39;49mjson(),\n\u001b[1;32m    195\u001b[0m     question_name\u001b[39m=\u001b[39;49m\u001b[39mself\u001b[39;49m\u001b[39m.\u001b[39;49mget_name(),\n\u001b[1;32m    196\u001b[0m     background\u001b[39m=\u001b[39;49mbackground,\n\u001b[1;32m    197\u001b[0m     snapshot\u001b[39m=\u001b[39;49mreal_snapshot,\n\u001b[1;32m    198\u001b[0m     reference_snapshot\u001b[39m=\u001b[39;49mreference_snapshot,\n\u001b[1;32m    199\u001b[0m     extra_args\u001b[39m=\u001b[39;49mextra_args,\n\u001b[1;32m    200\u001b[0m )\n",
      "File \u001b[0;32m~/Repositories/dockernet/.venv/lib/python3.11/site-packages/pybatfish/client/internal.py:60\u001b[0m, in \u001b[0;36m_bf_answer_obj\u001b[0;34m(session, question_str, question_name, background, snapshot, reference_snapshot, extra_args)\u001b[0m\n\u001b[1;32m     56\u001b[0m \u001b[39m# Answer the question\u001b[39;00m\n\u001b[1;32m     57\u001b[0m work_item \u001b[39m=\u001b[39m workhelper\u001b[39m.\u001b[39mget_workitem_answer(\n\u001b[1;32m     58\u001b[0m     session, question_name, snapshot, reference_snapshot\n\u001b[1;32m     59\u001b[0m )\n\u001b[0;32m---> 60\u001b[0m workhelper\u001b[39m.\u001b[39;49mexecute(work_item, session, background, extra_args)\n\u001b[1;32m     62\u001b[0m \u001b[39mif\u001b[39;00m background:\n\u001b[1;32m     63\u001b[0m     \u001b[39mreturn\u001b[39;00m work_item\u001b[39m.\u001b[39mid\n",
      "File \u001b[0;32m~/Repositories/dockernet/.venv/lib/python3.11/site-packages/pybatfish/client/workhelper.py:117\u001b[0m, in \u001b[0;36mexecute\u001b[0;34m(work_item, session, background, extra_args)\u001b[0m\n\u001b[1;32m    115\u001b[0m time\u001b[39m.\u001b[39msleep(cur_sleep)\n\u001b[1;32m    116\u001b[0m cur_sleep \u001b[39m=\u001b[39m \u001b[39mmin\u001b[39m(\u001b[39m1.0\u001b[39m, cur_sleep \u001b[39m*\u001b[39m \u001b[39m1.5\u001b[39m)\n\u001b[0;32m--> 117\u001b[0m answer \u001b[39m=\u001b[39m get_work_status(work_item\u001b[39m.\u001b[39;49mid, session)\n\u001b[1;32m    118\u001b[0m status \u001b[39m=\u001b[39m WorkStatusCode(answer[CoordConsts\u001b[39m.\u001b[39mSVC_KEY_WORKSTATUS])\n\u001b[1;32m    119\u001b[0m task_details \u001b[39m=\u001b[39m answer[CoordConsts\u001b[39m.\u001b[39mSVC_KEY_TASKSTATUS]\n",
      "File \u001b[0;32m~/Repositories/dockernet/.venv/lib/python3.11/site-packages/pybatfish/client/workhelper.py:358\u001b[0m, in \u001b[0;36mget_work_status\u001b[0;34m(w_item_id, session)\u001b[0m\n\u001b[1;32m    353\u001b[0m     \u001b[39melse\u001b[39;00m:\n\u001b[1;32m    354\u001b[0m         \u001b[39mraise\u001b[39;00m BatfishException(\n\u001b[1;32m    355\u001b[0m             \u001b[39m\"\u001b[39m\u001b[39mExpected key (\u001b[39m\u001b[39m%s\u001b[39;00m\u001b[39m) not found in status check response: \u001b[39m\u001b[39m%s\u001b[39;00m\u001b[39m\"\u001b[39m\n\u001b[1;32m    356\u001b[0m             \u001b[39m%\u001b[39m (CoordConsts\u001b[39m.\u001b[39mSVC_KEY_WORKSTATUS, answer)\n\u001b[1;32m    357\u001b[0m         )\n\u001b[0;32m--> 358\u001b[0m answer \u001b[39m=\u001b[39m restv2helper\u001b[39m.\u001b[39;49mget_work_status(session, w_item_id)\n\u001b[1;32m    359\u001b[0m \u001b[39mreturn\u001b[39;00m {\n\u001b[1;32m    360\u001b[0m     CoordConsts\u001b[39m.\u001b[39mSVC_KEY_WORKSTATUS: answer\u001b[39m.\u001b[39mget(CoordConstsV2\u001b[39m.\u001b[39mPROP_WORK_STATUS_CODE),\n\u001b[1;32m    361\u001b[0m     CoordConsts\u001b[39m.\u001b[39mSVC_KEY_TASKSTATUS: json\u001b[39m.\u001b[39mdumps(answer\u001b[39m.\u001b[39mget(CoordConstsV2\u001b[39m.\u001b[39mPROP_TASK)),\n\u001b[1;32m    362\u001b[0m }\n",
      "File \u001b[0;32m~/Repositories/dockernet/.venv/lib/python3.11/site-packages/pybatfish/client/restv2helper.py:615\u001b[0m, in \u001b[0;36mget_work_status\u001b[0;34m(session, work_item_id)\u001b[0m\n\u001b[1;32m    608\u001b[0m \u001b[39mdef\u001b[39;00m \u001b[39mget_work_status\u001b[39m(session: \u001b[39m\"\u001b[39m\u001b[39mSession\u001b[39m\u001b[39m\"\u001b[39m, work_item_id: \u001b[39mstr\u001b[39m) \u001b[39m-\u001b[39m\u001b[39m>\u001b[39m Dict[\u001b[39mstr\u001b[39m, Any]:\n\u001b[1;32m    609\u001b[0m     url_tail \u001b[39m=\u001b[39m \u001b[39m\"\u001b[39m\u001b[39m/\u001b[39m\u001b[39m{}\u001b[39;00m\u001b[39m/\u001b[39m\u001b[39m{}\u001b[39;00m\u001b[39m/\u001b[39m\u001b[39m{}\u001b[39;00m\u001b[39m/\u001b[39m\u001b[39m{}\u001b[39;00m\u001b[39m\"\u001b[39m\u001b[39m.\u001b[39mformat(\n\u001b[1;32m    610\u001b[0m         CoordConstsV2\u001b[39m.\u001b[39mRSC_NETWORKS,\n\u001b[1;32m    611\u001b[0m         session\u001b[39m.\u001b[39mnetwork,\n\u001b[1;32m    612\u001b[0m         CoordConstsV2\u001b[39m.\u001b[39mRSC_WORK,\n\u001b[1;32m    613\u001b[0m         work_item_id,\n\u001b[1;32m    614\u001b[0m     )\n\u001b[0;32m--> 615\u001b[0m     \u001b[39mreturn\u001b[39;00m _get_dict(session, url_tail)\n",
      "File \u001b[0;32m~/Repositories/dockernet/.venv/lib/python3.11/site-packages/pybatfish/client/restv2helper.py:712\u001b[0m, in \u001b[0;36m_get_dict\u001b[0;34m(session, url_tail, params, fail_fast)\u001b[0m\n\u001b[1;32m    705\u001b[0m \u001b[39mdef\u001b[39;00m \u001b[39m_get_dict\u001b[39m(session, url_tail, params\u001b[39m=\u001b[39m\u001b[39mNone\u001b[39;00m, fail_fast\u001b[39m=\u001b[39m\u001b[39mFalse\u001b[39;00m):\n\u001b[1;32m    706\u001b[0m     \u001b[39m# type: (Session, str, Optional[Dict[str, Any]], bool) -> Dict[str, Any]\u001b[39;00m\n\u001b[1;32m    707\u001b[0m \u001b[39m    \u001b[39m\u001b[39m\"\"\"Make an HTTP(s) GET request to Batfish coordinator that should return a JSON dict.\u001b[39;00m\n\u001b[1;32m    708\u001b[0m \n\u001b[1;32m    709\u001b[0m \u001b[39m    :raises SSLError if SSL connection failed\u001b[39;00m\n\u001b[1;32m    710\u001b[0m \u001b[39m    :raises ConnectionError if the coordinator is not available\u001b[39;00m\n\u001b[1;32m    711\u001b[0m \u001b[39m    \"\"\"\u001b[39;00m\n\u001b[0;32m--> 712\u001b[0m     response \u001b[39m=\u001b[39m _get(session, url_tail, params, fail_fast\u001b[39m=\u001b[39;49mfail_fast)\n\u001b[1;32m    713\u001b[0m     \u001b[39mreturn\u001b[39;00m \u001b[39mdict\u001b[39m(response\u001b[39m.\u001b[39mjson())\n",
      "File \u001b[0;32m~/Repositories/dockernet/.venv/lib/python3.11/site-packages/pybatfish/client/restv2helper.py:694\u001b[0m, in \u001b[0;36m_get\u001b[0;34m(session, url_tail, params, stream, fail_fast)\u001b[0m\n\u001b[1;32m    692\u001b[0m url \u001b[39m=\u001b[39m session\u001b[39m.\u001b[39mget_base_url2() \u001b[39m+\u001b[39m url_tail\n\u001b[1;32m    693\u001b[0m requests_session \u001b[39m=\u001b[39m _requests_session_fail_fast \u001b[39mif\u001b[39;00m fail_fast \u001b[39melse\u001b[39;00m _requests_session\n\u001b[0;32m--> 694\u001b[0m response \u001b[39m=\u001b[39m requests_session\u001b[39m.\u001b[39;49mget(\n\u001b[1;32m    695\u001b[0m     url,\n\u001b[1;32m    696\u001b[0m     headers\u001b[39m=\u001b[39;49m_get_headers(session),\n\u001b[1;32m    697\u001b[0m     params\u001b[39m=\u001b[39;49mparams,\n\u001b[1;32m    698\u001b[0m     stream\u001b[39m=\u001b[39;49mstream,\n\u001b[1;32m    699\u001b[0m     verify\u001b[39m=\u001b[39;49msession\u001b[39m.\u001b[39;49mverify_ssl_certs,\n\u001b[1;32m    700\u001b[0m )\n\u001b[1;32m    701\u001b[0m _check_response_status(response)\n\u001b[1;32m    702\u001b[0m \u001b[39mreturn\u001b[39;00m response\n",
      "File \u001b[0;32m~/Repositories/dockernet/.venv/lib/python3.11/site-packages/requests/sessions.py:602\u001b[0m, in \u001b[0;36mSession.get\u001b[0;34m(self, url, **kwargs)\u001b[0m\n\u001b[1;32m    594\u001b[0m \u001b[39m\u001b[39m\u001b[39mr\u001b[39m\u001b[39m\"\"\"Sends a GET request. Returns :class:`Response` object.\u001b[39;00m\n\u001b[1;32m    595\u001b[0m \n\u001b[1;32m    596\u001b[0m \u001b[39m:param url: URL for the new :class:`Request` object.\u001b[39;00m\n\u001b[1;32m    597\u001b[0m \u001b[39m:param \\*\\*kwargs: Optional arguments that ``request`` takes.\u001b[39;00m\n\u001b[1;32m    598\u001b[0m \u001b[39m:rtype: requests.Response\u001b[39;00m\n\u001b[1;32m    599\u001b[0m \u001b[39m\"\"\"\u001b[39;00m\n\u001b[1;32m    601\u001b[0m kwargs\u001b[39m.\u001b[39msetdefault(\u001b[39m\"\u001b[39m\u001b[39mallow_redirects\u001b[39m\u001b[39m\"\u001b[39m, \u001b[39mTrue\u001b[39;00m)\n\u001b[0;32m--> 602\u001b[0m \u001b[39mreturn\u001b[39;00m \u001b[39mself\u001b[39;49m\u001b[39m.\u001b[39;49mrequest(\u001b[39m\"\u001b[39;49m\u001b[39mGET\u001b[39;49m\u001b[39m\"\u001b[39;49m, url, \u001b[39m*\u001b[39;49m\u001b[39m*\u001b[39;49mkwargs)\n",
      "File \u001b[0;32m~/Repositories/dockernet/.venv/lib/python3.11/site-packages/requests/sessions.py:589\u001b[0m, in \u001b[0;36mSession.request\u001b[0;34m(self, method, url, params, data, headers, cookies, files, auth, timeout, allow_redirects, proxies, hooks, stream, verify, cert, json)\u001b[0m\n\u001b[1;32m    584\u001b[0m send_kwargs \u001b[39m=\u001b[39m {\n\u001b[1;32m    585\u001b[0m     \u001b[39m\"\u001b[39m\u001b[39mtimeout\u001b[39m\u001b[39m\"\u001b[39m: timeout,\n\u001b[1;32m    586\u001b[0m     \u001b[39m\"\u001b[39m\u001b[39mallow_redirects\u001b[39m\u001b[39m\"\u001b[39m: allow_redirects,\n\u001b[1;32m    587\u001b[0m }\n\u001b[1;32m    588\u001b[0m send_kwargs\u001b[39m.\u001b[39mupdate(settings)\n\u001b[0;32m--> 589\u001b[0m resp \u001b[39m=\u001b[39m \u001b[39mself\u001b[39;49m\u001b[39m.\u001b[39;49msend(prep, \u001b[39m*\u001b[39;49m\u001b[39m*\u001b[39;49msend_kwargs)\n\u001b[1;32m    591\u001b[0m \u001b[39mreturn\u001b[39;00m resp\n",
      "File \u001b[0;32m~/Repositories/dockernet/.venv/lib/python3.11/site-packages/requests/sessions.py:703\u001b[0m, in \u001b[0;36mSession.send\u001b[0;34m(self, request, **kwargs)\u001b[0m\n\u001b[1;32m    700\u001b[0m start \u001b[39m=\u001b[39m preferred_clock()\n\u001b[1;32m    702\u001b[0m \u001b[39m# Send the request\u001b[39;00m\n\u001b[0;32m--> 703\u001b[0m r \u001b[39m=\u001b[39m adapter\u001b[39m.\u001b[39;49msend(request, \u001b[39m*\u001b[39;49m\u001b[39m*\u001b[39;49mkwargs)\n\u001b[1;32m    705\u001b[0m \u001b[39m# Total elapsed time of the request (approximately)\u001b[39;00m\n\u001b[1;32m    706\u001b[0m elapsed \u001b[39m=\u001b[39m preferred_clock() \u001b[39m-\u001b[39m start\n",
      "File \u001b[0;32m~/Repositories/dockernet/.venv/lib/python3.11/site-packages/requests/adapters.py:486\u001b[0m, in \u001b[0;36mHTTPAdapter.send\u001b[0;34m(self, request, stream, timeout, verify, cert, proxies)\u001b[0m\n\u001b[1;32m    483\u001b[0m     timeout \u001b[39m=\u001b[39m TimeoutSauce(connect\u001b[39m=\u001b[39mtimeout, read\u001b[39m=\u001b[39mtimeout)\n\u001b[1;32m    485\u001b[0m \u001b[39mtry\u001b[39;00m:\n\u001b[0;32m--> 486\u001b[0m     resp \u001b[39m=\u001b[39m conn\u001b[39m.\u001b[39;49murlopen(\n\u001b[1;32m    487\u001b[0m         method\u001b[39m=\u001b[39;49mrequest\u001b[39m.\u001b[39;49mmethod,\n\u001b[1;32m    488\u001b[0m         url\u001b[39m=\u001b[39;49murl,\n\u001b[1;32m    489\u001b[0m         body\u001b[39m=\u001b[39;49mrequest\u001b[39m.\u001b[39;49mbody,\n\u001b[1;32m    490\u001b[0m         headers\u001b[39m=\u001b[39;49mrequest\u001b[39m.\u001b[39;49mheaders,\n\u001b[1;32m    491\u001b[0m         redirect\u001b[39m=\u001b[39;49m\u001b[39mFalse\u001b[39;49;00m,\n\u001b[1;32m    492\u001b[0m         assert_same_host\u001b[39m=\u001b[39;49m\u001b[39mFalse\u001b[39;49;00m,\n\u001b[1;32m    493\u001b[0m         preload_content\u001b[39m=\u001b[39;49m\u001b[39mFalse\u001b[39;49;00m,\n\u001b[1;32m    494\u001b[0m         decode_content\u001b[39m=\u001b[39;49m\u001b[39mFalse\u001b[39;49;00m,\n\u001b[1;32m    495\u001b[0m         retries\u001b[39m=\u001b[39;49m\u001b[39mself\u001b[39;49m\u001b[39m.\u001b[39;49mmax_retries,\n\u001b[1;32m    496\u001b[0m         timeout\u001b[39m=\u001b[39;49mtimeout,\n\u001b[1;32m    497\u001b[0m         chunked\u001b[39m=\u001b[39;49mchunked,\n\u001b[1;32m    498\u001b[0m     )\n\u001b[1;32m    500\u001b[0m \u001b[39mexcept\u001b[39;00m (ProtocolError, \u001b[39mOSError\u001b[39;00m) \u001b[39mas\u001b[39;00m err:\n\u001b[1;32m    501\u001b[0m     \u001b[39mraise\u001b[39;00m \u001b[39mConnectionError\u001b[39;00m(err, request\u001b[39m=\u001b[39mrequest)\n",
      "File \u001b[0;32m~/Repositories/dockernet/.venv/lib/python3.11/site-packages/urllib3/connectionpool.py:874\u001b[0m, in \u001b[0;36mHTTPConnectionPool.urlopen\u001b[0;34m(self, method, url, body, headers, retries, redirect, assert_same_host, timeout, pool_timeout, release_conn, chunked, body_pos, preload_content, decode_content, **response_kw)\u001b[0m\n\u001b[1;32m    869\u001b[0m \u001b[39mif\u001b[39;00m \u001b[39mnot\u001b[39;00m conn:\n\u001b[1;32m    870\u001b[0m     \u001b[39m# Try again\u001b[39;00m\n\u001b[1;32m    871\u001b[0m     log\u001b[39m.\u001b[39mwarning(\n\u001b[1;32m    872\u001b[0m         \u001b[39m\"\u001b[39m\u001b[39mRetrying (\u001b[39m\u001b[39m%r\u001b[39;00m\u001b[39m) after connection broken by \u001b[39m\u001b[39m'\u001b[39m\u001b[39m%r\u001b[39;00m\u001b[39m'\u001b[39m\u001b[39m: \u001b[39m\u001b[39m%s\u001b[39;00m\u001b[39m\"\u001b[39m, retries, err, url\n\u001b[1;32m    873\u001b[0m     )\n\u001b[0;32m--> 874\u001b[0m     \u001b[39mreturn\u001b[39;00m \u001b[39mself\u001b[39;49m\u001b[39m.\u001b[39;49murlopen(\n\u001b[1;32m    875\u001b[0m         method,\n\u001b[1;32m    876\u001b[0m         url,\n\u001b[1;32m    877\u001b[0m         body,\n\u001b[1;32m    878\u001b[0m         headers,\n\u001b[1;32m    879\u001b[0m         retries,\n\u001b[1;32m    880\u001b[0m         redirect,\n\u001b[1;32m    881\u001b[0m         assert_same_host,\n\u001b[1;32m    882\u001b[0m         timeout\u001b[39m=\u001b[39;49mtimeout,\n\u001b[1;32m    883\u001b[0m         pool_timeout\u001b[39m=\u001b[39;49mpool_timeout,\n\u001b[1;32m    884\u001b[0m         release_conn\u001b[39m=\u001b[39;49mrelease_conn,\n\u001b[1;32m    885\u001b[0m         chunked\u001b[39m=\u001b[39;49mchunked,\n\u001b[1;32m    886\u001b[0m         body_pos\u001b[39m=\u001b[39;49mbody_pos,\n\u001b[1;32m    887\u001b[0m         preload_content\u001b[39m=\u001b[39;49mpreload_content,\n\u001b[1;32m    888\u001b[0m         decode_content\u001b[39m=\u001b[39;49mdecode_content,\n\u001b[1;32m    889\u001b[0m         \u001b[39m*\u001b[39;49m\u001b[39m*\u001b[39;49mresponse_kw,\n\u001b[1;32m    890\u001b[0m     )\n\u001b[1;32m    892\u001b[0m \u001b[39m# Handle redirect?\u001b[39;00m\n\u001b[1;32m    893\u001b[0m redirect_location \u001b[39m=\u001b[39m redirect \u001b[39mand\u001b[39;00m response\u001b[39m.\u001b[39mget_redirect_location()\n",
      "File \u001b[0;32m~/Repositories/dockernet/.venv/lib/python3.11/site-packages/urllib3/connectionpool.py:874\u001b[0m, in \u001b[0;36mHTTPConnectionPool.urlopen\u001b[0;34m(self, method, url, body, headers, retries, redirect, assert_same_host, timeout, pool_timeout, release_conn, chunked, body_pos, preload_content, decode_content, **response_kw)\u001b[0m\n\u001b[1;32m    869\u001b[0m \u001b[39mif\u001b[39;00m \u001b[39mnot\u001b[39;00m conn:\n\u001b[1;32m    870\u001b[0m     \u001b[39m# Try again\u001b[39;00m\n\u001b[1;32m    871\u001b[0m     log\u001b[39m.\u001b[39mwarning(\n\u001b[1;32m    872\u001b[0m         \u001b[39m\"\u001b[39m\u001b[39mRetrying (\u001b[39m\u001b[39m%r\u001b[39;00m\u001b[39m) after connection broken by \u001b[39m\u001b[39m'\u001b[39m\u001b[39m%r\u001b[39;00m\u001b[39m'\u001b[39m\u001b[39m: \u001b[39m\u001b[39m%s\u001b[39;00m\u001b[39m\"\u001b[39m, retries, err, url\n\u001b[1;32m    873\u001b[0m     )\n\u001b[0;32m--> 874\u001b[0m     \u001b[39mreturn\u001b[39;00m \u001b[39mself\u001b[39;49m\u001b[39m.\u001b[39;49murlopen(\n\u001b[1;32m    875\u001b[0m         method,\n\u001b[1;32m    876\u001b[0m         url,\n\u001b[1;32m    877\u001b[0m         body,\n\u001b[1;32m    878\u001b[0m         headers,\n\u001b[1;32m    879\u001b[0m         retries,\n\u001b[1;32m    880\u001b[0m         redirect,\n\u001b[1;32m    881\u001b[0m         assert_same_host,\n\u001b[1;32m    882\u001b[0m         timeout\u001b[39m=\u001b[39;49mtimeout,\n\u001b[1;32m    883\u001b[0m         pool_timeout\u001b[39m=\u001b[39;49mpool_timeout,\n\u001b[1;32m    884\u001b[0m         release_conn\u001b[39m=\u001b[39;49mrelease_conn,\n\u001b[1;32m    885\u001b[0m         chunked\u001b[39m=\u001b[39;49mchunked,\n\u001b[1;32m    886\u001b[0m         body_pos\u001b[39m=\u001b[39;49mbody_pos,\n\u001b[1;32m    887\u001b[0m         preload_content\u001b[39m=\u001b[39;49mpreload_content,\n\u001b[1;32m    888\u001b[0m         decode_content\u001b[39m=\u001b[39;49mdecode_content,\n\u001b[1;32m    889\u001b[0m         \u001b[39m*\u001b[39;49m\u001b[39m*\u001b[39;49mresponse_kw,\n\u001b[1;32m    890\u001b[0m     )\n\u001b[1;32m    892\u001b[0m \u001b[39m# Handle redirect?\u001b[39;00m\n\u001b[1;32m    893\u001b[0m redirect_location \u001b[39m=\u001b[39m redirect \u001b[39mand\u001b[39;00m response\u001b[39m.\u001b[39mget_redirect_location()\n",
      "    \u001b[0;31m[... skipping similar frames: HTTPConnectionPool.urlopen at line 874 (4 times)]\u001b[0m\n",
      "File \u001b[0;32m~/Repositories/dockernet/.venv/lib/python3.11/site-packages/urllib3/connectionpool.py:874\u001b[0m, in \u001b[0;36mHTTPConnectionPool.urlopen\u001b[0;34m(self, method, url, body, headers, retries, redirect, assert_same_host, timeout, pool_timeout, release_conn, chunked, body_pos, preload_content, decode_content, **response_kw)\u001b[0m\n\u001b[1;32m    869\u001b[0m \u001b[39mif\u001b[39;00m \u001b[39mnot\u001b[39;00m conn:\n\u001b[1;32m    870\u001b[0m     \u001b[39m# Try again\u001b[39;00m\n\u001b[1;32m    871\u001b[0m     log\u001b[39m.\u001b[39mwarning(\n\u001b[1;32m    872\u001b[0m         \u001b[39m\"\u001b[39m\u001b[39mRetrying (\u001b[39m\u001b[39m%r\u001b[39;00m\u001b[39m) after connection broken by \u001b[39m\u001b[39m'\u001b[39m\u001b[39m%r\u001b[39;00m\u001b[39m'\u001b[39m\u001b[39m: \u001b[39m\u001b[39m%s\u001b[39;00m\u001b[39m\"\u001b[39m, retries, err, url\n\u001b[1;32m    873\u001b[0m     )\n\u001b[0;32m--> 874\u001b[0m     \u001b[39mreturn\u001b[39;00m \u001b[39mself\u001b[39;49m\u001b[39m.\u001b[39;49murlopen(\n\u001b[1;32m    875\u001b[0m         method,\n\u001b[1;32m    876\u001b[0m         url,\n\u001b[1;32m    877\u001b[0m         body,\n\u001b[1;32m    878\u001b[0m         headers,\n\u001b[1;32m    879\u001b[0m         retries,\n\u001b[1;32m    880\u001b[0m         redirect,\n\u001b[1;32m    881\u001b[0m         assert_same_host,\n\u001b[1;32m    882\u001b[0m         timeout\u001b[39m=\u001b[39;49mtimeout,\n\u001b[1;32m    883\u001b[0m         pool_timeout\u001b[39m=\u001b[39;49mpool_timeout,\n\u001b[1;32m    884\u001b[0m         release_conn\u001b[39m=\u001b[39;49mrelease_conn,\n\u001b[1;32m    885\u001b[0m         chunked\u001b[39m=\u001b[39;49mchunked,\n\u001b[1;32m    886\u001b[0m         body_pos\u001b[39m=\u001b[39;49mbody_pos,\n\u001b[1;32m    887\u001b[0m         preload_content\u001b[39m=\u001b[39;49mpreload_content,\n\u001b[1;32m    888\u001b[0m         decode_content\u001b[39m=\u001b[39;49mdecode_content,\n\u001b[1;32m    889\u001b[0m         \u001b[39m*\u001b[39;49m\u001b[39m*\u001b[39;49mresponse_kw,\n\u001b[1;32m    890\u001b[0m     )\n\u001b[1;32m    892\u001b[0m \u001b[39m# Handle redirect?\u001b[39;00m\n\u001b[1;32m    893\u001b[0m redirect_location \u001b[39m=\u001b[39m redirect \u001b[39mand\u001b[39;00m response\u001b[39m.\u001b[39mget_redirect_location()\n",
      "File \u001b[0;32m~/Repositories/dockernet/.venv/lib/python3.11/site-packages/urllib3/connectionpool.py:847\u001b[0m, in \u001b[0;36mHTTPConnectionPool.urlopen\u001b[0;34m(self, method, url, body, headers, retries, redirect, assert_same_host, timeout, pool_timeout, release_conn, chunked, body_pos, preload_content, decode_content, **response_kw)\u001b[0m\n\u001b[1;32m    842\u001b[0m     new_e \u001b[39m=\u001b[39m ProtocolError(\u001b[39m\"\u001b[39m\u001b[39mConnection aborted.\u001b[39m\u001b[39m\"\u001b[39m, new_e)\n\u001b[1;32m    844\u001b[0m retries \u001b[39m=\u001b[39m retries\u001b[39m.\u001b[39mincrement(\n\u001b[1;32m    845\u001b[0m     method, url, error\u001b[39m=\u001b[39mnew_e, _pool\u001b[39m=\u001b[39m\u001b[39mself\u001b[39m, _stacktrace\u001b[39m=\u001b[39msys\u001b[39m.\u001b[39mexc_info()[\u001b[39m2\u001b[39m]\n\u001b[1;32m    846\u001b[0m )\n\u001b[0;32m--> 847\u001b[0m retries\u001b[39m.\u001b[39;49msleep()\n\u001b[1;32m    849\u001b[0m \u001b[39m# Keep track of the error for the retry warning.\u001b[39;00m\n\u001b[1;32m    850\u001b[0m err \u001b[39m=\u001b[39m e\n",
      "File \u001b[0;32m~/Repositories/dockernet/.venv/lib/python3.11/site-packages/urllib3/util/retry.py:359\u001b[0m, in \u001b[0;36mRetry.sleep\u001b[0;34m(self, response)\u001b[0m\n\u001b[1;32m    356\u001b[0m     \u001b[39mif\u001b[39;00m slept:\n\u001b[1;32m    357\u001b[0m         \u001b[39mreturn\u001b[39;00m\n\u001b[0;32m--> 359\u001b[0m \u001b[39mself\u001b[39;49m\u001b[39m.\u001b[39;49m_sleep_backoff()\n",
      "File \u001b[0;32m~/Repositories/dockernet/.venv/lib/python3.11/site-packages/urllib3/util/retry.py:343\u001b[0m, in \u001b[0;36mRetry._sleep_backoff\u001b[0;34m(self)\u001b[0m\n\u001b[1;32m    341\u001b[0m \u001b[39mif\u001b[39;00m backoff \u001b[39m<\u001b[39m\u001b[39m=\u001b[39m \u001b[39m0\u001b[39m:\n\u001b[1;32m    342\u001b[0m     \u001b[39mreturn\u001b[39;00m\n\u001b[0;32m--> 343\u001b[0m time\u001b[39m.\u001b[39msleep(backoff)\n",
      "\u001b[0;31mKeyboardInterrupt\u001b[0m: "
     ]
    }
   ],
   "source": [
    "result = bf.q.bidirectionalReachability(headers=HeaderConstraints(srcIps='h1', dstIps='h143')).answer().frame()"
   ]
  },
  {
   "cell_type": "code",
   "execution_count": 33,
   "metadata": {},
   "outputs": [
    {
     "data": {
      "text/html": [
       "<span style=\"color:#019612; text-weight:bold;\">ACCEPTED</span><br><strong>1</strong>. node: h1<br>&nbsp;&nbsp;ORIGINATED(default)<br>&nbsp;&nbsp;FORWARDED(Forwarded out interface: eth0 with resolved next-hop IP: 10.128.0.5, Routes: [static (Network: 0.0.0.0/0, Next Hop: interface eth0 ip 10.128.0.5)])<br>&nbsp;&nbsp;TRANSMITTED(eth0)<br><strong>2</strong>. node: rr1<br>&nbsp;&nbsp;RECEIVED(Ethernet11)<br>&nbsp;&nbsp;FORWARDED(Forwarded out interface: Ethernet1 with resolved next-hop IP: 10.64.0.49, Routes: [bgp (Network: 10.128.1.220/30, Next Hop: ip 10.64.0.49)])<br>&nbsp;&nbsp;TRANSMITTED(Ethernet1)<br><strong>3</strong>. node: rl1<br>&nbsp;&nbsp;RECEIVED(Ethernet13)<br>&nbsp;&nbsp;FORWARDED(Forwarded out interface: Ethernet0 with resolved next-hop IP: 10.0.2.65, Routes: [bgp (Network: 10.128.1.220/30, Next Hop: ip 10.0.2.65)])<br>&nbsp;&nbsp;TRANSMITTED(Ethernet0)<br><strong>4</strong>. node: rs12<br>&nbsp;&nbsp;RECEIVED(Ethernet0)<br>&nbsp;&nbsp;FORWARDED(Forwarded out interface: Ethernet10 with resolved next-hop IP: 10.0.4.34, Routes: [bgp (Network: 10.128.1.220/30, Next Hop: ip 10.0.4.34)])<br>&nbsp;&nbsp;TRANSMITTED(Ethernet10)<br><strong>5</strong>. node: rl111<br>&nbsp;&nbsp;RECEIVED(Ethernet0)<br>&nbsp;&nbsp;FORWARDED(Forwarded out interface: Ethernet21 with resolved next-hop IP: 10.64.19.58, Routes: [bgp (Network: 10.128.1.220/30, Next Hop: ip 10.64.19.58)])<br>&nbsp;&nbsp;TRANSMITTED(Ethernet21)<br><strong>6</strong>. node: rr119<br>&nbsp;&nbsp;RECEIVED(Ethernet1)<br>&nbsp;&nbsp;FORWARDED(Forwarded out interface: Ethernet11, Routes: [connected (Network: 10.128.1.220/30, Next Hop: interface Ethernet11)])<br>&nbsp;&nbsp;TRANSMITTED(Ethernet11)<br><strong>7</strong>. node: h119<br>&nbsp;&nbsp;RECEIVED(eth0)<br>&nbsp;&nbsp;ACCEPTED(eth0)"
      ],
      "text/plain": [
       "ListWrapper([((ORIGINATED(default), FORWARDED(Forwarded out interface: eth0 with resolved next-hop IP: 10.128.0.5, Routes: [static (Network: 0.0.0.0/0, Next Hop: interface eth0 ip 10.128.0.5)]), TRANSMITTED(eth0)), (RECEIVED(Ethernet11), FORWARDED(Forwarded out interface: Ethernet1 with resolved next-hop IP: 10.64.0.49, Routes: [bgp (Network: 10.128.1.220/30, Next Hop: ip 10.64.0.49)]), TRANSMITTED(Ethernet1)), (RECEIVED(Ethernet13), FORWARDED(Forwarded out interface: Ethernet0 with resolved next-hop IP: 10.0.2.65, Routes: [bgp (Network: 10.128.1.220/30, Next Hop: ip 10.0.2.65)]), TRANSMITTED(Ethernet0)), (RECEIVED(Ethernet0), FORWARDED(Forwarded out interface: Ethernet10 with resolved next-hop IP: 10.0.4.34, Routes: [bgp (Network: 10.128.1.220/30, Next Hop: ip 10.0.4.34)]), TRANSMITTED(Ethernet10)), (RECEIVED(Ethernet0), FORWARDED(Forwarded out interface: Ethernet21 with resolved next-hop IP: 10.64.19.58, Routes: [bgp (Network: 10.128.1.220/30, Next Hop: ip 10.64.19.58)]), TRANSMITTED(Ethernet21)), (RECEIVED(Ethernet1), FORWARDED(Forwarded out interface: Ethernet11, Routes: [connected (Network: 10.128.1.220/30, Next Hop: interface Ethernet11)]), TRANSMITTED(Ethernet11)), (RECEIVED(eth0), ACCEPTED(eth0)))])"
      ]
     },
     "execution_count": 33,
     "metadata": {},
     "output_type": "execute_result"
    }
   ],
   "source": [
    "result.Forward_Traces[0]"
   ]
  },
  {
   "cell_type": "markdown",
   "metadata": {},
   "source": []
  }
 ],
 "metadata": {
  "kernelspec": {
   "display_name": "Python 3",
   "language": "python",
   "name": "python3"
  },
  "language_info": {
   "codemirror_mode": {
    "name": "ipython",
    "version": 3
   },
   "file_extension": ".py",
   "mimetype": "text/x-python",
   "name": "python",
   "nbconvert_exporter": "python",
   "pygments_lexer": "ipython3",
   "version": "3.11.2"
  }
 },
 "nbformat": 4,
 "nbformat_minor": 2
}
